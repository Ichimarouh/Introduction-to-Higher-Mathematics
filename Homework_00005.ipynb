{
 "cells": [
  {
   "cell_type": "markdown",
   "metadata": {},
   "source": [
    "# Практические задания к уроку 5\n",
    "\n",
    "# Тема “Элементы теории вероятностей”"
   ]
  },
  {
   "cell_type": "markdown",
   "metadata": {},
   "source": [
    "**1. Напишите код, моделирующий выпадение поля в рулетке (с учетом поля зеро).**"
   ]
  },
  {
   "cell_type": "code",
   "execution_count": 119,
   "metadata": {},
   "outputs": [],
   "source": [
    "import numpy as np\n",
    "\n",
    "from math import factorial\n",
    "\n",
    "import itertools\n",
    "\n",
    "from matplotlib import pyplot as plt\n",
    "%matplotlib inline"
   ]
  },
  {
   "cell_type": "code",
   "execution_count": 120,
   "metadata": {},
   "outputs": [
    {
     "name": "stdout",
     "output_type": "stream",
     "text": [
      "\n",
      "Zero\n",
      "\n",
      "5\n",
      "\n",
      "27\n",
      "\n",
      "19\n",
      "\n",
      "33\n"
     ]
    }
   ],
   "source": [
    "for i in range(0, 5):\n",
    "    a = input()\n",
    "    x = np.random.randint(1,38)\n",
    "    if x == 37:\n",
    "        print(\"Zero\")\n",
    "    else:\n",
    "        print(x)"
   ]
  },
  {
   "cell_type": "markdown",
   "metadata": {},
   "source": [
    "**2.1. Напишите код, проверяющий любую из теорем сложения или умножения вероятности на примере рулетки или подбрасывания монетки.**"
   ]
  },
  {
   "cell_type": "markdown",
   "metadata": {},
   "source": [
    "Проверим теорему сложения- если А и В несовместны, то Р(А+В) = Р(А) + Р(В).\n",
    "\n",
    "Проверим теорему на примере подбрасываний монетки."
   ]
  },
  {
   "cell_type": "code",
   "execution_count": 121,
   "metadata": {},
   "outputs": [
    {
     "name": "stdout",
     "output_type": "stream",
     "text": [
      "Орел\n",
      "Решка\n",
      "Решка\n",
      "Решка\n",
      "Орел\n",
      "Решка\n",
      "Решка\n",
      "Орел\n",
      "Орел\n",
      "Решка\n",
      "Решка\n",
      "Орел\n",
      "Орел\n",
      "Решка\n",
      "Орел\n",
      "Решка\n",
      "Решка\n",
      "Решка\n",
      "Орел\n",
      "Орел\n",
      "\n",
      "Количество выпадений \"орла\"- 9, количество выпадения \"решки\"- 11.\n",
      "\n",
      "Выполняется ли теорема сложения- True.\n"
     ]
    }
   ],
   "source": [
    "k, m = 0, 0\n",
    "\n",
    "n = 20\n",
    "\n",
    "for i in range(0, n):\n",
    "    x = np.random.uniform(0, 10)\n",
    "    if x<5:\n",
    "        print(\"Орел\")\n",
    "        k = k + 1\n",
    "    else:\n",
    "        print(\"Решка\")\n",
    "        m = m + 1\n",
    "print(f'\\nКоличество выпадений \"орла\"- {k}, количество выпадения \"решки\"- {m}.\\n') \n",
    "print(f'Выполняется ли теорема сложения- {1 == k/n + m /n}.')"
   ]
  },
  {
   "cell_type": "markdown",
   "metadata": {},
   "source": [
    "**2.2. Сгенерируйте десять выборок случайных чисел х0, …, х9. и постройте гистограмму распределения случайной суммы  +х0+ …+ х 9.**"
   ]
  },
  {
   "cell_type": "code",
   "execution_count": 122,
   "metadata": {},
   "outputs": [
    {
     "data": {
      "image/png": "[encoded data removed]",
      "text/plain": [
       "<Figure size 432x288 with 1 Axes>"
      ]
     },
     "metadata": {
      "needs_background": "light"
     },
     "output_type": "display_data"
    }
   ],
   "source": [
    "rand_sum = np.zeros(1000)\n",
    "for i in range(0, 10):\n",
    "    x = np.random.rand(1000)\n",
    "    rand_sum += x\n",
    "\n",
    "num_bins = 100\n",
    "n, bins, patches = plt.hist(rand_sum, num_bins, color='grey')\n",
    "plt.xlabel('Num_sum')\n",
    "plt.ylabel('Probability')\n",
    "plt.title('Histogram');"
   ]
  },
  {
   "cell_type": "markdown",
   "metadata": {},
   "source": [
    "**3.1. Дополните код Монте-Карло последовательности независимых испытаний расчетом соответствующих вероятностей (через биномиальное распределение) \n",
    "и сравните результаты.**"
   ]
  },
  {
   "cell_type": "code",
   "execution_count": 123,
   "metadata": {},
   "outputs": [
    {
     "name": "stdout",
     "output_type": "stream",
     "text": [
      "2 10 0.2\n",
      "C = 45.0\n",
      "P = 0.0439453125\n"
     ]
    }
   ],
   "source": [
    "q, l = 0, 10\n",
    "\n",
    "a = np.random.randint(0, 2, l)\n",
    "b = np.random.randint(0, 2, l)\n",
    "c = np.random.randint(0, 2, l)\n",
    "d = np.random.randint(0, 2, l)\n",
    "x = a + b + c + d\n",
    "\n",
    "for i in range(0, l):\n",
    "    if x[i] == 2:\n",
    "        q = q + 1\n",
    "\n",
    "print(q, l, q/l)\n",
    "\n",
    "C = math.factorial(l)/math.factorial(q)/math.factorial(l-q)\n",
    "\n",
    "print(f'C = {C}')\n",
    "print(f'P = {C /(2 ** l) }')"
   ]
  },
  {
   "cell_type": "markdown",
   "metadata": {},
   "source": [
    "**3.2. Повторите расчеты биномиальных коэффициентов и вероятностей k успехов в последовательности из n независимых испытаний, взяв другие значения n и k.**"
   ]
  },
  {
   "cell_type": "code",
   "execution_count": 124,
   "metadata": {},
   "outputs": [
    {
     "name": "stdout",
     "output_type": "stream",
     "text": [
      "6 12 0.5\n",
      "C = 924.0\n",
      "P = 0.2255859375\n"
     ]
    }
   ],
   "source": [
    "q, l = 3, 12\n",
    "\n",
    "a = np.random.randint(0, 2, l)\n",
    "b = np.random.randint(0, 2, l)\n",
    "c = np.random.randint(0, 2, l)\n",
    "d = np.random.randint(0, 2, l)\n",
    "x = a + b + c + d\n",
    "\n",
    "for i in range(0, l):\n",
    "    if x[i] == 2:\n",
    "        q = q + 1\n",
    "\n",
    "print(q, l, q/l)\n",
    "\n",
    "C = math.factorial(l)/math.factorial(q)/math.factorial(l-q)\n",
    "\n",
    "print(f'C = {C}')\n",
    "print(f'P = {C /(2 ** l) }')"
   ]
  },
  {
   "cell_type": "markdown",
   "metadata": {},
   "source": [
    "**4. Из урока по комбинаторике повторите расчеты, сгенерировав возможные варианты перестановок для других значений n и k.**"
   ]
  },
  {
   "cell_type": "code",
   "execution_count": 125,
   "metadata": {},
   "outputs": [
    {
     "name": "stdout",
     "output_type": "stream",
     "text": [
      "0123\n",
      "0124\n",
      "0132\n",
      "0134\n",
      "0142\n",
      "0143\n",
      "0213\n",
      "0214\n",
      "0231\n",
      "0234\n",
      "0241\n",
      "0243\n",
      "0312\n",
      "0314\n",
      "0321\n",
      "0324\n",
      "0341\n",
      "0342\n",
      "0412\n",
      "0413\n",
      "0421\n",
      "0423\n",
      "0431\n",
      "0432\n",
      "1023\n",
      "1024\n",
      "1032\n",
      "1034\n",
      "1042\n",
      "1043\n",
      "1203\n",
      "1204\n",
      "1230\n",
      "1234\n",
      "1240\n",
      "1243\n",
      "1302\n",
      "1304\n",
      "1320\n",
      "1324\n",
      "1340\n",
      "1342\n",
      "1402\n",
      "1403\n",
      "1420\n",
      "1423\n",
      "1430\n",
      "1432\n",
      "2013\n",
      "2014\n",
      "2031\n",
      "2034\n",
      "2041\n",
      "2043\n",
      "2103\n",
      "2104\n",
      "2130\n",
      "2134\n",
      "2140\n",
      "2143\n",
      "2301\n",
      "2304\n",
      "2310\n",
      "2314\n",
      "2340\n",
      "2341\n",
      "2401\n",
      "2403\n",
      "2410\n",
      "2413\n",
      "2430\n",
      "2431\n",
      "3012\n",
      "3014\n",
      "3021\n",
      "3024\n",
      "3041\n",
      "3042\n",
      "3102\n",
      "3104\n",
      "3120\n",
      "3124\n",
      "3140\n",
      "3142\n",
      "3201\n",
      "3204\n",
      "3210\n",
      "3214\n",
      "3240\n",
      "3241\n",
      "3401\n",
      "3402\n",
      "3410\n",
      "3412\n",
      "3420\n",
      "3421\n",
      "4012\n",
      "4013\n",
      "4021\n",
      "4023\n",
      "4031\n",
      "4032\n",
      "4102\n",
      "4103\n",
      "4120\n",
      "4123\n",
      "4130\n",
      "4132\n",
      "4201\n",
      "4203\n",
      "4210\n",
      "4213\n",
      "4230\n",
      "4231\n",
      "4301\n",
      "4302\n",
      "4310\n",
      "4312\n",
      "4320\n",
      "4321\n"
     ]
    }
   ],
   "source": [
    "for p in itertools.permutations(\"01234\", 4):\n",
    "    print(''.join(str(x) for x in p))"
   ]
  },
  {
   "cell_type": "code",
   "execution_count": 126,
   "metadata": {},
   "outputs": [
    {
     "name": "stdout",
     "output_type": "stream",
     "text": [
      "012\n",
      "013\n",
      "014\n",
      "021\n",
      "023\n",
      "024\n",
      "031\n",
      "032\n",
      "034\n",
      "041\n",
      "042\n",
      "043\n",
      "102\n",
      "103\n",
      "104\n",
      "120\n",
      "123\n",
      "124\n",
      "130\n",
      "132\n",
      "134\n",
      "140\n",
      "142\n",
      "143\n",
      "201\n",
      "203\n",
      "204\n",
      "210\n",
      "213\n",
      "214\n",
      "230\n",
      "231\n",
      "234\n",
      "240\n",
      "241\n",
      "243\n",
      "301\n",
      "302\n",
      "304\n",
      "310\n",
      "312\n",
      "314\n",
      "320\n",
      "321\n",
      "324\n",
      "340\n",
      "341\n",
      "342\n",
      "401\n",
      "402\n",
      "403\n",
      "410\n",
      "412\n",
      "413\n",
      "420\n",
      "421\n",
      "423\n",
      "430\n",
      "431\n",
      "432\n"
     ]
    }
   ],
   "source": [
    "for p in itertools.permutations(\"01234\", 3):\n",
    "    print(''.join(str(x) for x in p))"
   ]
  },
  {
   "cell_type": "code",
   "execution_count": null,
   "metadata": {},
   "outputs": [],
   "source": []
  }
 ],
 "metadata": {
  "kernelspec": {
   "display_name": "Python 3",
   "language": "python",
   "name": "python3"
  },
  "language_info": {
   "codemirror_mode": {
    "name": "ipython",
    "version": 3
   },
   "file_extension": ".py",
   "mimetype": "text/x-python",
   "name": "python",
   "nbconvert_exporter": "python",
   "pygments_lexer": "ipython3",
   "version": "3.8.5"
  }
 },
 "nbformat": 4,
 "nbformat_minor": 4
}
