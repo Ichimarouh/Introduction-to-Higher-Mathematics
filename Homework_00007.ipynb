{
  "cells": [
    {
      "cell_type": "markdown",
      "metadata": {
        "id": "kTS52Wrzh5ig"
      },
      "source": [
        "**1. Решите линейную систему: $\\begin{bmatrix} 1 \\ 2 \\ 3 \\\\ 4 \\ 0 \\ 6 \\\\ 7 \\ 8 \\ 9 \\\\ \\end{bmatrix} \\cdot X = \\begin{bmatrix} 12 \\\\ 2 \\\\ 1 \\\\ \\end{bmatrix}$**"
      ]
    },
    {
      "cell_type": "code",
      "execution_count": 86,
      "metadata": {
        "id": "3Hyj9varh5ig"
      },
      "outputs": [],
      "source": [
        "import numpy as np"
      ]
    },
    {
      "cell_type": "code",
      "execution_count": 87,
      "metadata": {
        "id": "0o5Ubr1Xh5ih"
      },
      "outputs": [],
      "source": [
        "a = np.array([[1, 2, 3], [4, 0, 6], [7, 8, 9]])\n",
        "\n",
        "b = np.array([[12], [2], [1]])"
      ]
    },
    {
      "cell_type": "code",
      "execution_count": 88,
      "metadata": {
        "id": "2x88sMBnh5ii"
      },
      "outputs": [],
      "source": [
        "a_inv = np.linalg.inv(a)"
      ]
    },
    {
      "cell_type": "code",
      "execution_count": 89,
      "metadata": {
        "id": "fXwOHfFoh5ij",
        "outputId": "66cf8f26-160b-4d9c-986a-1f22e1ab8784",
        "colab": {
          "base_uri": "https://localhost:8080/"
        }
      },
      "outputs": [
        {
          "output_type": "execute_result",
          "data": {
            "text/plain": [
              "array([[-9.2       ],\n",
              "       [ 0.9       ],\n",
              "       [ 6.46666667]])"
            ]
          },
          "metadata": {},
          "execution_count": 89
        }
      ],
      "source": [
        "X = np.dot(a_inv, b)\n",
        "\n",
        "X"
      ]
    },
    {
      "cell_type": "markdown",
      "metadata": {
        "id": "x6jslvP1h5ik"
      },
      "source": [
        "**2. Найдите псевдорешение:**\n",
        "\n",
        "x + 2y – z = 1;\n",
        "\n",
        "3x – 4y = 7;\n",
        "\n",
        "8x – 5y + 2z = 12;\n",
        "\n",
        "2x – 5z = 7;\n",
        "\n",
        "11x +4y – 7z = 15."
      ]
    },
    {
      "cell_type": "markdown",
      "metadata": {
        "id": "gS1kaXd6h5ik"
      },
      "source": [
        "**Представим систему линейных уравнений в матричном виде:**"
      ]
    },
    {
      "cell_type": "markdown",
      "metadata": {
        "id": "wcfMmeNgh5il"
      },
      "source": [
        "$\\begin{pmatrix} 1 \\ 2 \\ -1 \\\\ 3 \\ -4 \\ 0 \\\\ 8 \\ -5 \\ 2 \\\\ 2 \\ 0 \\ -5 \\\\ 11 \\ 4 \\ -7 \\\\ \\end{pmatrix} \\cdot \\begin{pmatrix} x \\\\ y \\\\ z \\end{pmatrix} = \\begin{pmatrix} 1 \\\\ 7 \\\\ 12 \\\\ 7 \\\\ 15 \\\\ \\end{pmatrix}$"
      ]
    },
    {
      "cell_type": "code",
      "execution_count": 90,
      "metadata": {
        "id": "lljGjWJyh5im"
      },
      "outputs": [],
      "source": [
        "a = np.array([[1, 2, -1], [3, -4, 0], [8, -5, 2], [2, 0, -5], [11, 4, -7]])\n",
        "\n",
        "b = np.array([[1], [7], [12], [7], [15]])"
      ]
    },
    {
      "cell_type": "code",
      "execution_count": 91,
      "metadata": {
        "id": "AFs3n-ARh5im",
        "outputId": "f78e2c08-37ac-4a21-b6e2-f7fe8bf4edd4",
        "colab": {
          "base_uri": "https://localhost:8080/"
        }
      },
      "outputs": [
        {
          "output_type": "execute_result",
          "data": {
            "text/plain": [
              "(array([[ 1.13919353],\n",
              "        [-0.90498444],\n",
              "        [-0.9009803 ]]),\n",
              " array([0.71523211]),\n",
              " 3,\n",
              " array([15.2817306 ,  9.59852942,  3.65197794]))"
            ]
          },
          "metadata": {},
          "execution_count": 91
        }
      ],
      "source": [
        "np.linalg.lstsq(a, b, rcond=None)"
      ]
    },
    {
      "cell_type": "markdown",
      "metadata": {
        "id": "4280hbyuh5im"
      },
      "source": [
        "**3. Сколько решений имеет линейная система: $\\begin{bmatrix} 1 \\ 2 \\ 3 \\\\ 4 \\ 5 \\ 6 \\\\ 7 \\ 8 \\ 9 \\\\ \\end{bmatrix} \\cdot X = \\begin{bmatrix} 12 \\\\ 2 \\\\ 1 \\\\ \\end{bmatrix}$**\n",
        "\n",
        "**Если ноль, то измените вектор правой части так, чтобы система стала совместной, и решите ее.**"
      ]
    },
    {
      "cell_type": "code",
      "execution_count": 92,
      "metadata": {
        "id": "HK9Xws-lh5in"
      },
      "outputs": [],
      "source": [
        "a = np.array([[1, 2, 3], [4, 5, 6], [7, 8, 9]])\n",
        "\n",
        "b = np.array([[12], [2], [1]])"
      ]
    },
    {
      "cell_type": "code",
      "execution_count": 93,
      "metadata": {
        "id": "t0gAy6lFh5in",
        "outputId": "f587ee3b-3400-41ae-eaaf-4905aa9adcfe",
        "colab": {
          "base_uri": "https://localhost:8080/"
        }
      },
      "outputs": [
        {
          "output_type": "stream",
          "name": "stdout",
          "text": [
            "[[ 1  2  3 12]\n",
            " [ 4  5  6  2]\n",
            " [ 7  8  9  1]] \n",
            "\n",
            "Матрица A имеет ранг- 2.\n",
            "\n",
            "Матрица B имеет ранг- 3.\n"
          ]
        }
      ],
      "source": [
        "c = np.concatenate((a, b), axis=1)\n",
        "\n",
        "print(c,'\\n')\n",
        "\n",
        "print(f'Матрица A имеет ранг- {np.linalg.matrix_rank(a, 0.0001)}.\\n')\n",
        "\n",
        "print(f'Матрица B имеет ранг- {np.linalg.matrix_rank(c, 0.0001)}.')"
      ]
    },
    {
      "cell_type": "markdown",
      "metadata": {
        "id": "GBwoF-XUh5in"
      },
      "source": [
        "**Изменим правую часть для уравнивания рангов.**"
      ]
    },
    {
      "cell_type": "code",
      "execution_count": 94,
      "metadata": {
        "id": "4g6EFc3Jh5in"
      },
      "outputs": [],
      "source": [
        "b = np.array([[1], [2], [3]])"
      ]
    },
    {
      "cell_type": "code",
      "execution_count": 95,
      "metadata": {
        "id": "u5DdJPrTh5in",
        "outputId": "ed5294e4-b7df-4af9-c579-677c71e0414e",
        "colab": {
          "base_uri": "https://localhost:8080/"
        }
      },
      "outputs": [
        {
          "output_type": "stream",
          "name": "stdout",
          "text": [
            "[[1 2 3 1]\n",
            " [4 5 6 2]\n",
            " [7 8 9 3]] \n",
            "\n",
            "Матрица A имеет ранг- 2.\n",
            "\n",
            "Матрица B имеет ранг- 2.\n"
          ]
        }
      ],
      "source": [
        "c = np.concatenate((a, b), axis=1)\n",
        "\n",
        "print(c,'\\n')\n",
        "\n",
        "print(f'Матрица A имеет ранг- {np.linalg.matrix_rank(a, 0.0001)}.\\n')\n",
        "\n",
        "print(f'Матрица B имеет ранг- {np.linalg.matrix_rank(c, 0.0001)}.')"
      ]
    },
    {
      "cell_type": "markdown",
      "metadata": {
        "id": "HOO6G30Vh5io"
      },
      "source": [
        "**Был подобран вектор решения, при котором ранги матриц совпадают, но при этом ранг меньше количества неизвестных, следовательно СЛУ имеет бесконечное количество решений.**"
      ]
    },
    {
      "cell_type": "markdown",
      "metadata": {
        "id": "FlfhVlYlh5io"
      },
      "source": [
        "**4. Вычислите LU-разложение матрицы: $\\begin{bmatrix} 1 \\ 2 \\ 3 \\\\ 2 \\ 16 \\ 21 \\\\ 4 \\ 28 \\ 73 \\\\ \\end{bmatrix}$.**\n",
        "**После этого придумайте вектор правых частей и решите полученную линейную систему трех уравнений с данной матрицей.**"
      ]
    },
    {
      "cell_type": "code",
      "execution_count": 96,
      "metadata": {
        "id": "tFGyu27Hh5io"
      },
      "outputs": [],
      "source": [
        "import scipy\n",
        "import scipy.linalg"
      ]
    },
    {
      "cell_type": "code",
      "execution_count": 97,
      "metadata": {
        "id": "uO7O8M16h5io"
      },
      "outputs": [],
      "source": [
        "a = np.array([[1, 2, 3], [2, 16, 21], [4, 28, 73]])\n",
        "\n",
        "p, l, u = scipy.linalg.lu(a)"
      ]
    },
    {
      "cell_type": "code",
      "execution_count": 98,
      "metadata": {
        "id": "yzMcHZcyh5ip",
        "outputId": "accc6dfe-30cf-498e-c9bb-c7ceb1e49737",
        "colab": {
          "base_uri": "https://localhost:8080/"
        }
      },
      "outputs": [
        {
          "output_type": "stream",
          "name": "stdout",
          "text": [
            "[[0. 1. 0.]\n",
            " [0. 0. 1.]\n",
            " [1. 0. 0.]] \n",
            "\n",
            "[[ 1.    0.    0.  ]\n",
            " [ 0.25  1.    0.  ]\n",
            " [ 0.5  -0.4   1.  ]] \n",
            "\n",
            "[[  4.    28.    73.  ]\n",
            " [  0.    -5.   -15.25]\n",
            " [  0.     0.   -21.6 ]]\n"
          ]
        }
      ],
      "source": [
        "print(p, '\\n')\n",
        "\n",
        "print(l, '\\n')\n",
        "\n",
        "print(u)"
      ]
    },
    {
      "cell_type": "code",
      "execution_count": 99,
      "metadata": {
        "id": "xd5zEan2h5ip",
        "outputId": "768ccf33-2134-4f96-bbd4-8c850ed71794",
        "colab": {
          "base_uri": "https://localhost:8080/"
        }
      },
      "outputs": [
        {
          "output_type": "execute_result",
          "data": {
            "text/plain": [
              "432.00000000000017"
            ]
          },
          "metadata": {},
          "execution_count": 99
        }
      ],
      "source": [
        "np.linalg.det(a)"
      ]
    },
    {
      "cell_type": "code",
      "execution_count": 100,
      "metadata": {
        "id": "julKCzwVh5ip"
      },
      "outputs": [],
      "source": [
        "b = np.array([[15, 40, 18]])"
      ]
    },
    {
      "cell_type": "code",
      "execution_count": 101,
      "metadata": {
        "id": "e1j_2uoth5ip",
        "outputId": "ba9abb27-3ec6-4342-94a1-b9b2c6e41f66",
        "colab": {
          "base_uri": "https://localhost:8080/"
        }
      },
      "outputs": [
        {
          "output_type": "execute_result",
          "data": {
            "text/plain": [
              "array([[14.14814815],\n",
              "       [ 2.87037037],\n",
              "       [-1.62962963]])"
            ]
          },
          "metadata": {},
          "execution_count": 101
        }
      ],
      "source": [
        "np.linalg.solve(a, b.T)"
      ]
    },
    {
      "cell_type": "markdown",
      "metadata": {
        "id": "H4Bruqdfh5ip"
      },
      "source": [
        "**5. Найдите нормальное псевдорешение недоопределенной системы:**\n",
        "\n",
        "x + 2y – z = 1;\n",
        "\n",
        "8x – 5y + 2z = 12.\n",
        "\n",
        "**Для этого определите функцию Q(x,y,z), равную норме решения, и найдите ее минимум.** "
      ]
    },
    {
      "cell_type": "code",
      "execution_count": 102,
      "metadata": {
        "id": "WN_WWZxqh5iq"
      },
      "outputs": [],
      "source": [
        "import matplotlib.pyplot as plt\n",
        "\n",
        "import pylab\n",
        "\n",
        "from mpl_toolkits.mplot3d import Axes3D"
      ]
    },
    {
      "cell_type": "code",
      "execution_count": 103,
      "metadata": {
        "id": "QvquiqZ6h5iq",
        "outputId": "0f735c89-8cfd-4fa0-e173-d9f2014cf3ba",
        "colab": {
          "base_uri": "https://localhost:8080/",
          "height": 625
        }
      },
      "outputs": [
        {
          "output_type": "execute_result",
          "data": {
            "text/plain": [
              "Text(0.5, 0, 'x')"
            ]
          },
          "metadata": {},
          "execution_count": 103
        },
        {
          "output_type": "display_data",
          "data": {
            "image/png": "[encoded data removed]",
            "text/plain": [
              "<Figure size 576x576 with 1 Axes>"
            ]
          },
          "metadata": {
            "needs_background": "light"
          }
        }
      ],
      "source": [
        "def Q(x, y, z):\n",
        "    return (x**2 + y**2 + z**2)\n",
        "\n",
        "fig = plt.figure(figsize=(8, 8))\n",
        "\n",
        "ax = Axes3D(fig)\n",
        "\n",
        "X = np.linspace(1, 2, 100)\n",
        "\n",
        "Y = np.linspace(1, 2, 100)\n",
        "\n",
        "plt.plot(X, Y, Q(X, Y, (X + 2*Y - 1)))\n",
        "\n",
        "plt.plot(X, Y, Q(X, Y, (6 + 2.5*Y - 4*X)))\n",
        "\n",
        "plt.xlabel('x')"
      ]
    },
    {
      "cell_type": "markdown",
      "metadata": {
        "id": "-NEprubyh5iq"
      },
      "source": [
        "**Из построения видно, что x приблизительно равен 1.27.**"
      ]
    },
    {
      "cell_type": "markdown",
      "metadata": {
        "id": "Fwn0z5aWh5iq"
      },
      "source": [
        "**Найдем решения при помощи программных инструментариев.**"
      ]
    },
    {
      "cell_type": "code",
      "execution_count": 104,
      "metadata": {
        "id": "VYKLqNHEh5iq",
        "outputId": "f042575a-52cb-4659-bd16-c9c7390b8467",
        "colab": {
          "base_uri": "https://localhost:8080/"
        }
      },
      "outputs": [
        {
          "output_type": "execute_result",
          "data": {
            "text/plain": [
              "(array([[ 1.38191882],\n",
              "        [-0.18081181],\n",
              "        [ 0.0202952 ]]),\n",
              " array([], dtype=float64),\n",
              " 2,\n",
              " array([9.65316119, 2.41173777]))"
            ]
          },
          "metadata": {},
          "execution_count": 104
        }
      ],
      "source": [
        "a = np.array([[1, 2, -1], [8, -5, 2]])\n",
        "\n",
        "b = np.array([[1], [12]])\n",
        "\n",
        "np.linalg.lstsq(a, b, rcond=None)"
      ]
    },
    {
      "cell_type": "markdown",
      "metadata": {
        "id": "67uWHsJch5ir"
      },
      "source": [
        "**6. Найдите одно из псевдорешений вырожденной системы: $\\begin{bmatrix} 1 \\ 2 \\ 3 \\\\ 4 \\ 5 \\ 6 \\\\ 7 \\ 8 \\ 9 \\\\ \\end{bmatrix} \\cdot X = \\begin{bmatrix} 2 \\\\ 5 \\\\ 11 \\\\ \\end{bmatrix}$**\n",
        "\n",
        "**Попробуйте также отыскать и нормальное псевдорешение.**"
      ]
    },
    {
      "cell_type": "code",
      "execution_count": 105,
      "metadata": {
        "id": "CQGsNC4rh5ir",
        "outputId": "a261cdd2-ab56-457c-87de-ca9d254f0bb3",
        "colab": {
          "base_uri": "https://localhost:8080/"
        }
      },
      "outputs": [
        {
          "output_type": "stream",
          "name": "stdout",
          "text": [
            "[[1 2 3]\n",
            " [4 5 6]\n",
            " [7 8 9]] \n",
            "\n",
            "[[-0.12309149  0.90453403  0.40824829]\n",
            " [-0.49236596  0.30151134 -0.81649658]\n",
            " [-0.86164044 -0.30151134  0.40824829]] \n",
            "\n",
            "[[-8.12403840e+00 -9.60113630e+00 -1.10782342e+01]\n",
            " [ 0.00000000e+00  9.04534034e-01  1.80906807e+00]\n",
            " [ 0.00000000e+00  0.00000000e+00 -7.58790979e-16]]\n"
          ]
        }
      ],
      "source": [
        "a = np.array([[1, 2, 3], [4, 5, 6], [7, 8, 9]])\n",
        "\n",
        "b = np.array([[2], [5], [11]])\n",
        "\n",
        "q, r = np.linalg.qr(a)\n",
        "\n",
        "print(a, '\\n')\n",
        "\n",
        "print(q, '\\n')\n",
        "\n",
        "print(r)"
      ]
    },
    {
      "cell_type": "code",
      "execution_count": 106,
      "metadata": {
        "id": "ySyH8U-Dh5ir",
        "outputId": "f43a69cf-3544-4559-d157-775ea7926d92",
        "colab": {
          "base_uri": "https://localhost:8080/"
        }
      },
      "outputs": [
        {
          "output_type": "execute_result",
          "data": {
            "text/plain": [
              "array([[-8.1240384 , -9.6011363 ],\n",
              "       [ 0.        ,  0.90453403]])"
            ]
          },
          "metadata": {},
          "execution_count": 106
        }
      ],
      "source": [
        "r1 = r[:2, :2]\n",
        "\n",
        "r1"
      ]
    },
    {
      "cell_type": "code",
      "execution_count": 107,
      "metadata": {
        "id": "9Ma17uXFh5ir",
        "outputId": "3afe8211-214a-4acf-f516-e49dc836faba",
        "colab": {
          "base_uri": "https://localhost:8080/"
        }
      },
      "outputs": [
        {
          "output_type": "execute_result",
          "data": {
            "text/plain": [
              "array([[-1.21860576e+01],\n",
              "       [ 3.33066907e-15]])"
            ]
          },
          "metadata": {},
          "execution_count": 107
        }
      ],
      "source": [
        "b1 = np.dot(np.transpose(q), b)[:2]\n",
        "\n",
        "b1"
      ]
    },
    {
      "cell_type": "code",
      "execution_count": 108,
      "metadata": {
        "id": "qaz11mLWh5ir",
        "outputId": "b731cb4a-b389-4d18-8213-b3499c9036d7",
        "colab": {
          "base_uri": "https://localhost:8080/"
        }
      },
      "outputs": [
        {
          "output_type": "execute_result",
          "data": {
            "text/plain": [
              "array([[1.50000000e+00],\n",
              "       [3.68219321e-15]])"
            ]
          },
          "metadata": {},
          "execution_count": 108
        }
      ],
      "source": [
        "x1 = np.linalg.solve(r1, b1)\n",
        "\n",
        "x1"
      ]
    },
    {
      "cell_type": "code",
      "execution_count": 109,
      "metadata": {
        "id": "OvYufeIrh5is",
        "outputId": "413f46bd-37e8-4e4c-e299-d25dc63f0905",
        "colab": {
          "base_uri": "https://localhost:8080/"
        }
      },
      "outputs": [
        {
          "output_type": "stream",
          "name": "stdout",
          "text": [
            "[1.50000000e+00 3.68219321e-15 0.00000000e+00] \n",
            "\n"
          ]
        },
        {
          "output_type": "execute_result",
          "data": {
            "text/plain": [
              "1.499999999999996"
            ]
          },
          "metadata": {},
          "execution_count": 109
        }
      ],
      "source": [
        "x = np.append(x1, 0)\n",
        "\n",
        "print (x, '\\n')\n",
        "\n",
        "np.linalg.norm(x)"
      ]
    },
    {
      "cell_type": "markdown",
      "metadata": {
        "id": "94N5R6edh5is"
      },
      "source": [
        "**Нормальное значение.**"
      ]
    },
    {
      "cell_type": "code",
      "execution_count": 110,
      "metadata": {
        "id": "PBxmwFSsh5is",
        "outputId": "bbb1e9b0-46f4-4223-c581-fd40bd76f075",
        "colab": {
          "base_uri": "https://localhost:8080/"
        }
      },
      "outputs": [
        {
          "output_type": "execute_result",
          "data": {
            "text/plain": [
              "15.732132722552272"
            ]
          },
          "metadata": {},
          "execution_count": 110
        }
      ],
      "source": [
        "np.linalg.norm(np.dot(a, x) - b)"
      ]
    },
    {
      "cell_type": "code",
      "execution_count": 111,
      "metadata": {
        "id": "biycXjnLh5is",
        "outputId": "9e1682a4-150a-4d85-fdee-e3ca1fdd093b",
        "colab": {
          "base_uri": "https://localhost:8080/"
        }
      },
      "outputs": [
        {
          "output_type": "execute_result",
          "data": {
            "text/plain": [
              "array([[ 1.25],\n",
              "       [ 0.5 ],\n",
              "       [-0.25]])"
            ]
          },
          "metadata": {},
          "execution_count": 111
        }
      ],
      "source": [
        "x = np.linalg.lstsq(a, b, rcond=-1)[0]\n",
        "\n",
        "x"
      ]
    },
    {
      "cell_type": "code",
      "execution_count": 112,
      "metadata": {
        "id": "vAUfirSxh5is",
        "outputId": "375214be-7a2a-4a55-9413-f7cf7d248ccb",
        "colab": {
          "base_uri": "https://localhost:8080/"
        }
      },
      "outputs": [
        {
          "output_type": "execute_result",
          "data": {
            "text/plain": [
              "(1.3693063937629146, 1.2247448713915887)"
            ]
          },
          "metadata": {},
          "execution_count": 112
        }
      ],
      "source": [
        "np.linalg.norm(x), np.linalg.norm(np.dot(a, x) - b)"
      ]
    }
  ],
  "metadata": {
    "kernelspec": {
      "display_name": "Python 3",
      "language": "python",
      "name": "python3"
    },
    "language_info": {
      "codemirror_mode": {
        "name": "ipython",
        "version": 3
      },
      "file_extension": ".py",
      "mimetype": "text/x-python",
      "name": "python",
      "nbconvert_exporter": "python",
      "pygments_lexer": "ipython3",
      "version": "3.8.2"
    },
    "colab": {
      "name": "Копия блокнота \"lesson_8.ipynb\"",
      "provenance": [],
      "collapsed_sections": []
    }
  },
  "nbformat": 4,
  "nbformat_minor": 0
}